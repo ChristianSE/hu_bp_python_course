{
 "cells": [
  {
   "cell_type": "markdown",
   "metadata": {},
   "source": [
    "# Exercises"
   ]
  },
  {
   "cell_type": "code",
<<<<<<< HEAD
   "execution_count": 14,
=======
   "execution_count": 3,
>>>>>>> upstream2/master
   "metadata": {
    "collapsed": false
   },
   "outputs": [],
   "source": [
    "import pandas as pd\n",
    "from matplotlib import pyplot as plt\n",
    "plt.style.use('ggplot')\n",
    "%matplotlib inline\n",
    "diamonds = pd.read_csv('diamonds.csv',index_col=0)"
   ]
  },
  {
   "cell_type": "markdown",
   "metadata": {},
   "source": [
    "### Task 1: Find all the diamonds with more than 2 carat and plot their price distribution in a histogram"
   ]
  },
  {
   "cell_type": "code",
<<<<<<< HEAD
   "execution_count": 20,
   "metadata": {
    "collapsed": false
   },
   "outputs": [
    {
     "data": {
      "text/plain": [
       "<matplotlib.axes._subplots.AxesSubplot at 0x7f878be38c10>"
      ]
     },
     "execution_count": 20,
     "metadata": {},
     "output_type": "execute_result"
    },
    {
     "data": {
      "image/png": "iVBORw0KGgoAAAANSUhEUgAAAZcAAAEECAYAAADklHngAAAABHNCSVQICAgIfAhkiAAAAAlwSFlz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\nRZJUnMVFklScxUWSVJzFRZJU3P8HY5XmZdlaFTQAAAAASUVORK5CYII=\n",
      "text/plain": [
       "<matplotlib.figure.Figure at 0x7f878c37bc90>"
      ]
     },
     "metadata": {},
     "output_type": "display_data"
    }
   ],
   "source": [
    "diamondscarat[diamonds['carat']>2]['price'].plot(kind='hist',bins=50,)\n"
   ]
=======
   "execution_count": 120,
   "metadata": {
    "collapsed": false
   },
   "outputs": [],
   "source": []
>>>>>>> upstream2/master
  },
  {
   "cell_type": "markdown",
   "metadata": {},
   "source": [
    "### Task 2: compute and plot the standard deviation of the x dimension for the different cuts"
   ]
  },
  {
   "cell_type": "code",
<<<<<<< HEAD
   "execution_count": 33,
   "metadata": {
    "collapsed": false
   },
   "outputs": [
    {
     "data": {
      "text/plain": [
       "<matplotlib.axes._subplots.AxesSubplot at 0x7f878b2e8bd0>"
      ]
     },
     "execution_count": 33,
     "metadata": {},
     "output_type": "execute_result"
    },
    {
     "data": {
      "image/png": "iVBORw0KGgoAAAANSUhEUgAAAbAAAAD/CAYAAACQN4MnAAAABHNCSVQICAgIfAhkiAAAAAlwSFlz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\nmfQqWMdsXAAAAABJRU5ErkJggg==\n",
      "text/plain": [
       "<matplotlib.figure.Figure at 0x7f878b5f1910>"
      ]
     },
     "metadata": {},
     "output_type": "display_data"
    }
   ],
   "source": [
    "diamonds.groupby('cut')['x'].std().plot(kind='barh')"
   ]
=======
   "execution_count": 120,
   "metadata": {
    "collapsed": false
   },
   "outputs": [],
   "source": []
>>>>>>> upstream2/master
  },
  {
   "cell_type": "markdown",
   "metadata": {},
   "source": [
    "###Task 3: Import the \"Kernmerkmale Bevölkerung (Geschlecht, Deutsche/Ausländer, 5 Altersgruppen)\" data set\n",
    "\n",
    "https://www.destatis.de/DE/PresseService/Presse/Pressekonferenzen/2013/Zensus2011/zensus_pk.html\n",
    "\n",
    "download the excel file and use the `read_excel` method in pandas (hint: useful arguments are `sheetname`, `header` and `index_col`"
   ]
  },
  {
   "cell_type": "code",
<<<<<<< HEAD
   "execution_count": 41,
   "metadata": {
    "collapsed": false
   },
   "outputs": [
    {
     "name": "stdout",
     "output_type": "stream",
     "text": [
      "       SATZART           AGS                                     NAME  \\\n",
      "0            0             0                              Deutschland   \n",
      "1           10             1                       Schleswig-Holstein   \n",
      "2           20            10  Schleswig-Holstein (fiktiver Reg.-Bez.)   \n",
      "3           40          1001                         Flensburg, Stadt   \n",
      "4           50      10010000                         Flensburg, Stadt   \n",
      "5           60   10010000000                         Flensburg, Stadt   \n",
      "6           40          1002                   Kiel, Landeshauptstadt   \n",
      "7           50      10020000                   Kiel, Landeshauptstadt   \n",
      "8           60   10020000000                   Kiel, Landeshauptstadt   \n",
      "9           40          1003                       Lübeck, Hansestadt   \n",
      "10          50      10030000                       Lübeck, Hansestadt   \n",
      "11          60   10030000000                       Lübeck, Hansestadt   \n",
      "12          40          1004                        Neumünster, Stadt   \n",
      "13          50      10040000                        Neumünster, Stadt   \n",
      "14          60   10040000000                        Neumünster, Stadt   \n",
      "15          40          1051                             Dithmarschen   \n",
      "16          50      10510011                       Brunsbüttel, Stadt   \n",
      "17          60   10510011011                       Brunsbüttel, Stadt   \n",
      "18          50      10510044                             Heide, Stadt   \n",
      "19          60   10510044044                             Heide, Stadt   \n",
      "20          50      10515163                   Burg-St. Michaelisdonn   \n",
      "21          60   10515163003                                  Averlak   \n",
      "22          60   10515163010                                 Brickeln   \n",
      "23          60   10515163012                                 Buchholz   \n",
      "24          60   10515163016                      Burg (Dithmarschen)   \n",
      "25          60   10515163022                                   Dingen   \n",
      "26          60   10515163024                                  Eddelak   \n",
      "27          60   10515163026                                 Eggstedt   \n",
      "28          60   10515163032                                 Frestedt   \n",
      "29          60   10515163037                               Großenrade   \n",
      "...        ...           ...                                      ...   \n",
      "16309       50     160775004                               Pleißenaue   \n",
      "16310       60  160775004005                               Fockendorf   \n",
      "16311       60  160775004007                              Gerstenberg   \n",
      "16312       60  160775004015                                Haselbach   \n",
      "16313       60  160775004048                                   Treben   \n",
      "16314       60  160775004052                            Windischleuba   \n",
      "16315       50     160775005                                   Rositz   \n",
      "16316       60  160775005022                              Kriebitzsch   \n",
      "16317       60  160775005027                                    Lödla   \n",
      "16318       60  160775005034                                  Monstab   \n",
      "16319       60  160775005042                                   Rositz   \n",
      "16320       50     160775008                                 Wieratal   \n",
      "16321       60  160775008006                               Frohnsdorf   \n",
      "16322       60  160775008011                              Göpfersdorf   \n",
      "16323       60  160775008019                               Jückelberg   \n",
      "16324       60  160775008023                   Langenleuba-Niederhain   \n",
      "16325       60  160775008055                               Ziegelheim   \n",
      "16326       50     160775009                       Oberes Sprottental   \n",
      "16327       60  160775009016                               Heukewalde   \n",
      "16328       60  160775009018                               Jonaswalde   \n",
      "16329       60  160775009026                                 Löbichau   \n",
      "16330       60  160775009037                                Nöbdenitz   \n",
      "16331       60  160775009041                              Posterstein   \n",
      "16332       60  160775009047                               Thonhausen   \n",
      "16333       60  160775009049                             Vollmershain   \n",
      "16334       60  160775009051                             Wildenbörten   \n",
      "16335       50     160775050                           Gößnitz, Stadt   \n",
      "16336       60  160775050012                           Gößnitz, Stadt   \n",
      "16337       60  160775050017                               Heyersdorf   \n",
      "16338       60  160775050039                                   Ponitz   \n",
      "\n",
      "            EWZ      EW_M      EW_W      EW_D     EW_A   ALTER_1   ALTER_2  \\\n",
      "0      80219695  39153540  41066140  74050320  6169360  13138580  11391700   \n",
      "1       2800119   1360530   1439590   2683670   116450    477010    362390   \n",
      "2       2800119   1360530   1439590   2683670   116450    477010    362390   \n",
      "3         82258     40660     41590     77140     5120     12150     15640   \n",
      "4         82258     40660     41590     77140     5120     12150     15640   \n",
      "5         82258     40660     41590     77140     5120     12150     15640   \n",
      "6        235782    113400    122380    219670    16120     33940     49130   \n",
      "7        235782    113400    122380    219670    16120     33940     49130   \n",
      "8        235782    113400    122380    219670    16120     33940     49130   \n",
      "9        210305     99880    110420    197390    12910     31590     31520   \n",
      "10       210305     99880    110420    197390    12910     31590     31520   \n",
      "11       210305     99880    110420    197390    12910     31590     31520   \n",
      "12        77249     37650     39600     72470     4780     12900     11320   \n",
      "13        77249     37650     39600     72470     4780     12900     11320   \n",
      "14        77249     37650     39600     72470     4780     12900     11320   \n",
      "15       133900     65480     68420    130720     3180     23830     16270   \n",
      "16        12834      6360      6470     12410      430      2180      1610   \n",
      "17        12834      6360      6470     12410      430      2180      1610   \n",
      "18        20768      9740     11030     19840      930      3280      3350   \n",
      "19        20768      9740     11030     19840      930      3280      3350   \n",
      "20        16317      8036      8281     16084      233      3145      1898   \n",
      "21          615       309       306       603       12       112        76   \n",
      "22          208       104       105       209        0        62        18   \n",
      "23         1080       546       534      1068       12       253       118   \n",
      "24         4219      2020      2199      4129       90       723       483   \n",
      "25          658       331       327       658        0       124        72   \n",
      "26         1398       690       708      1389        9       287       167   \n",
      "27          772       388       384       772        0       151        77   \n",
      "28          374       186       188       362       12        80        37   \n",
      "29          493       244       248       486        6        84        61   \n",
      "...         ...       ...       ...       ...      ...       ...       ...   \n",
      "16309      5558      2740      2819      5532       27       648       571   \n",
      "16310       843       425       418       834        9        92        88   \n",
      "16311       518       247       271       518        0        54        57   \n",
      "16312       832       415       417       832        0       111        83   \n",
      "16313      1284       606       678      1278        6       145       135   \n",
      "16314      2081      1047      1035      2070       12       246       208   \n",
      "16315      5300      2609      2691      5276       24       657       536   \n",
      "16316      1125       556       569      1119        6       122       121   \n",
      "16317       707       346       361       707        0        82        57   \n",
      "16318       464       226       238       464        0        69        43   \n",
      "16319      3004      1481      1523      2986       18       384       315   \n",
      "16320      3623      1852      1770      3619        3       504       411   \n",
      "16321       292       147       145       292        0        30        43   \n",
      "16322       245       124       121       242        3        39        33   \n",
      "16323       310       160       150       310        0        54        33   \n",
      "16324      1916       982       933      1915        0       284       203   \n",
      "16325       860       439       421       860        0        97        99   \n",
      "16326      4172      2104      2067      4162        9       538       462   \n",
      "16327       218       105       114       219        0        30        30   \n",
      "16328       321       166       155       318        3        48        40   \n",
      "16329      1041       516       525      1041        0       127       129   \n",
      "16330       938       478       459       937        0       113        93   \n",
      "16331       447       232       214       446        0        69        52   \n",
      "16332       571       287       284       571        0        78        44   \n",
      "16333       329       162       167       326        3        47        45   \n",
      "16334       307       158       149       304        3        26        29   \n",
      "16335      5463      2691      2772      5438       25       668       595   \n",
      "16336      3724      1804      1920      3702       22       431       411   \n",
      "16337       138        76        61       137        0        15        18   \n",
      "16338      1601       811       791      1599        3       222       166   \n",
      "\n",
      "        ALTER_3   ALTER_4   ALTER_5  \n",
      "0      22838880  16333080  16517450  \n",
      "1        790060    563490    607170  \n",
      "2        790060    563490    607170  \n",
      "3         22130     15560     16770  \n",
      "4         22130     15560     16770  \n",
      "5         22130     15560     16770  \n",
      "6         67910     41730     43090  \n",
      "7         67910     41730     43090  \n",
      "8         67910     41730     43090  \n",
      "9         58380     40390     48420  \n",
      "10        58380     40390     48420  \n",
      "11        58380     40390     48420  \n",
      "12        20820     15250     16960  \n",
      "13        20820     15250     16960  \n",
      "14        20820     15250     16960  \n",
      "15        35430     27750     30620  \n",
      "16         3330      2880      2840  \n",
      "17         3330      2880      2840  \n",
      "18         5300      3980      4850  \n",
      "19         5300      3980      4850  \n",
      "20         4348      3369      3557  \n",
      "21          174       143       110  \n",
      "22           71        25        33  \n",
      "23          306       222       181  \n",
      "24          979       906      1128  \n",
      "25          183       147       132  \n",
      "26          440       257       247  \n",
      "27          229       159       156  \n",
      "28          106        69        82  \n",
      "29          137       108       102  \n",
      "...         ...       ...       ...  \n",
      "16309      1542      1451      1347  \n",
      "16310       247       212       204  \n",
      "16311       148       122       137  \n",
      "16312       231       213       194  \n",
      "16313       329       310       365  \n",
      "16314       587       594       447  \n",
      "16315      1428      1342      1337  \n",
      "16316       306       298       278  \n",
      "16317       204       205       159  \n",
      "16318       140       107       105  \n",
      "16319       778       732       795  \n",
      "16320      1016       806       885  \n",
      "16321        77        68        74  \n",
      "16322        78        50        45  \n",
      "16323        84        59        80  \n",
      "16324       541       425       462  \n",
      "16325       236       204       224  \n",
      "16326      1170      1020       981  \n",
      "16327        54        54        51  \n",
      "16328        97        72        64  \n",
      "16329       287       237       261  \n",
      "16330       250       242       239  \n",
      "16331       156        94        75  \n",
      "16332       155       138       156  \n",
      "16333        90        89        58  \n",
      "16334        81        94        77  \n",
      "16335      1393      1258      1549  \n",
      "16336       897       823      1162  \n",
      "16337        38        33        33  \n",
      "16338       458       402       354  \n",
      "\n",
      "[16339 rows x 13 columns]\n"
     ]
    }
   ],
   "source": [
    "data = pd.read_excel('/local/home/biostudent202/Desktop/scratch/Fachkurs_Python/ChristianS/05_dataio_matplotlib/demo_excel.xls;jsessionid=459092312DC674803D37A4DD8F5F0494.cae3', sheetname=2, header=3, index_col1=1)\n",
    "print data"
   ]
=======
   "execution_count": 120,
   "metadata": {
    "collapsed": false
   },
   "outputs": [],
   "source": []
>>>>>>> upstream2/master
  },
  {
   "cell_type": "markdown",
   "metadata": {},
   "source": [
    "### Task 4: Create a new DataFrame containing only the \"Bundesländer\" (hint: use the corresponding SATZART key)"
   ]
  },
  {
   "cell_type": "code",
<<<<<<< HEAD
   "execution_count": 80,
   "metadata": {
    "collapsed": false
   },
   "outputs": [
    {
     "name": "stdout",
     "output_type": "stream",
     "text": [
      "                        SATZART  AGS                    NAME       EWZ  \\\n",
      "NAME                                                                     \n",
      "Schleswig-Holstein           10    1      Schleswig-Holstein   2800119   \n",
      "Hamburg                      10    2                 Hamburg   1706696   \n",
      "Niedersachsen                10    3           Niedersachsen   7777992   \n",
      "Bremen                       10    4                  Bremen    650863   \n",
      "Nordrhein-Westfalen          10    5     Nordrhein-Westfalen  17538251   \n",
      "Hessen                       10    6                  Hessen   5971816   \n",
      "Rheinland-Pfalz              10    7         Rheinland-Pfalz   3989808   \n",
      "Baden-Württemberg            10    8       Baden-Württemberg  10486660   \n",
      "Bayern                       10    9                  Bayern  12397614   \n",
      "Saarland                     10   10                Saarland    999623   \n",
      "Berlin                       10   11                  Berlin   3292365   \n",
      "Brandenburg                  10   12             Brandenburg   2455780   \n",
      "Mecklenburg-Vorpommern       10   13  Mecklenburg-Vorpommern   1609982   \n",
      "Sachsen                      10   14                 Sachsen   4056799   \n",
      "Sachsen-Anhalt               10   15          Sachsen-Anhalt   2287040   \n",
      "Thüringen                    10   16               Thüringen   2188589   \n",
      "\n",
      "                           EW_M     EW_W      EW_D     EW_A  ALTER_1  ALTER_2  \\\n",
      "NAME                                                                            \n",
      "Schleswig-Holstein      1360530  1439590   2683670   116450   477010   362390   \n",
      "Hamburg                  826140   880560   1495810   210890   267800   275420   \n",
      "Niedersachsen           3804410  3973590   7351250   426750  1356370  1049040   \n",
      "Bremen                   316110   334750    580340    70520    98850   105260   \n",
      "Nordrhein-Westfalen     8521230  9017020  15931170  1607080  2984650  2481470   \n",
      "Hessen                  2914740  3057080   5311720   660090  1005660   834310   \n",
      "Rheinland-Pfalz         1950420  2039380   3718250   271560   664260   562230   \n",
      "Baden-Württemberg       5133480  5353190   9353030  1133630  1853540  1547500   \n",
      "Bayern                  6062910  6334700  11383180  1014430  2112190  1797760   \n",
      "Saarland                 485380   514240    933360    66270   148980   135930   \n",
      "Berlin                  1599840  1692530   2920090   372280   494150   535310   \n",
      "Brandenburg             1207850  1247920   2413580    42190   337040   309010   \n",
      "Mecklenburg-Vorpommern   793310   816670   1582250    27730   215300   228240   \n",
      "Sachsen                 1978040  2078760   3979760    77030   543160   558590   \n",
      "Sachsen-Anhalt          1116850  1170190   2247810    39230   290700   304600   \n",
      "Thüringen               1076410  1112180   2155360    33230   286960   303570   \n",
      "\n",
      "                        ALTER_3  ALTER_4  ALTER_5  \n",
      "NAME                                               \n",
      "Schleswig-Holstein       790060   563490   607170  \n",
      "Hamburg                  537600   301700   324180  \n",
      "Niedersachsen           2188170  1569480  1614940  \n",
      "Bremen                   181880   126940   137940  \n",
      "Nordrhein-Westfalen     4993250  3525620  3553260  \n",
      "Hessen                  1746430  1205160  1180260  \n",
      "Rheinland-Pfalz         1109500   841540   812270  \n",
      "Baden-Württemberg       2997710  2053400  2034520  \n",
      "Bayern                  3613220  2459360  2415070  \n",
      "Saarland                 269470   224680   220560  \n",
      "Berlin                  1004770   624090   634030  \n",
      "Brandenburg              691800   562490   555430  \n",
      "Mecklenburg-Vorpommern   434590   375550   356300  \n",
      "Sachsen                 1077560   870980  1006500  \n",
      "Sachsen-Anhalt           610810   524660   556270  \n",
      "Thüringen                587720   501650   508700  \n"
     ]
    }
   ],
   "source": [
    "ldata=data[data['SATZART']==10]\n",
    "ldata.index = ldata.NAME\n",
    "\n",
    "print ldata\n",
    "#df = data.loc[1,10]"
   ]
=======
   "execution_count": 120,
   "metadata": {
    "collapsed": false
   },
   "outputs": [],
   "source": []
>>>>>>> upstream2/master
  },
  {
   "cell_type": "markdown",
   "metadata": {},
   "source": [
    "### Task 5: Plot the age composition of the different Bundesländer"
   ]
  },
  {
   "cell_type": "code",
<<<<<<< HEAD
   "execution_count": 64,
   "metadata": {
    "collapsed": false
   },
   "outputs": [
    {
     "data": {
      "text/plain": [
       "<matplotlib.axes._subplots.AxesSubplot at 0x7f878b592e10>"
      ]
     },
     "execution_count": 64,
     "metadata": {},
     "output_type": "execute_result"
    },
    {
     "data": {
      "image/png": "iVBORw0KGgoAAAANSUhEUgAAAZAAAAEYCAYAAAByXKB5AAAABHNCSVQICAgIfAhkiAAAAAlwSFlz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\n",
      "text/plain": [
       "<matplotlib.figure.Figure at 0x7f878bd2ac50>"
      ]
     },
     "metadata": {},
     "output_type": "display_data"
    }
   ],
   "source": [
    "#ldata.sort('EW_A', ascending=False)\n",
    "#ldata['EW_A']/ldata['EW_D']*100\n",
    "#plot(x = ldata['EW_A']/ldata['EW_D']*100, y = 'NAME')\n",
    "\n",
    "ldata[['ALTER_1','ALTER_2','ALTER_3','ALTER_4','ALTER_5']].plot(kind='bar')"
   ]
=======
   "execution_count": 120,
   "metadata": {
    "collapsed": false
   },
   "outputs": [],
   "source": []
>>>>>>> upstream2/master
  },
  {
   "cell_type": "markdown",
   "metadata": {},
   "source": [
    "### Task 6: ...and now relative to the population in each Bundesland"
   ]
  },
  {
   "cell_type": "code",
<<<<<<< HEAD
   "execution_count": 81,
   "metadata": {
    "collapsed": false
   },
   "outputs": [
    {
     "data": {
      "text/plain": [
       "<matplotlib.axes._subplots.AxesSubplot at 0x7f8789938310>"
      ]
     },
     "execution_count": 81,
     "metadata": {},
     "output_type": "execute_result"
    },
    {
     "data": {
      "image/png": "iVBORw0KGgoAAAANSUhEUgAAAf8AAAD/CAYAAAD/ht8KAAAABHNCSVQICAgIfAhkiAAAAAlwSFlz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\n",
      "text/plain": [
       "<matplotlib.figure.Figure at 0x7f8789a08890>"
      ]
     },
     "metadata": {},
     "output_type": "display_data"
    }
   ],
   "source": [
    "\n",
    "agedata = ldata[[\"ALTER_1\",'ALTER_2','ALTER_3','ALTER_4','ALTER_5']].div(ldata['EWZ'], axis=0)\n",
    "agedata.plot(kind=\"barh\", stacked=True)\n"
   ]
=======
   "execution_count": 120,
   "metadata": {
    "collapsed": false
   },
   "outputs": [],
   "source": []
>>>>>>> upstream2/master
  },
  {
   "cell_type": "markdown",
   "metadata": {},
   "source": [
    "### Task 7: Plot pie charts of the relative age distribution in Berlin and Sachsen"
   ]
  },
  {
   "cell_type": "code",
<<<<<<< HEAD
   "execution_count": 83,
   "metadata": {
    "collapsed": false
   },
   "outputs": [
    {
     "data": {
      "text/plain": [
       "<matplotlib.axes._subplots.AxesSubplot at 0x7f8789a63f50>"
      ]
     },
     "execution_count": 83,
     "metadata": {},
     "output_type": "execute_result"
    },
    {
     "data": {
      "image/png": "iVBORw0KGgoAAAANSUhEUgAAAXMAAADtCAYAAABNoZUVAAAABHNCSVQICAgIfAhkiAAAAAlwSFlz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\n",
      "text/plain": [
       "<matplotlib.figure.Figure at 0x7f87898dda90>"
      ]
     },
     "metadata": {},
     "output_type": "display_data"
    }
   ],
   "source": [
    "agedata.loc['Berlin'].plot(kind='pie')"
   ]
=======
   "execution_count": 120,
   "metadata": {
    "collapsed": false
   },
   "outputs": [],
   "source": []
>>>>>>> upstream2/master
  },
  {
   "cell_type": "code",
   "execution_count": 120,
   "metadata": {
    "collapsed": false
   },
   "outputs": [],
   "source": []
  },
  {
   "cell_type": "markdown",
   "metadata": {},
   "source": [
    "###Task 8: Import a health care data set from Zeit online \n",
    "\n",
    "The file is in the git repository: `multiresistente_keime.xlsx`. Import it using the `read_excel` function.\n"
   ]
  },
  {
   "cell_type": "code",
   "execution_count": 120,
   "metadata": {
    "collapsed": false
   },
   "outputs": [],
   "source": []
  },
  {
   "cell_type": "markdown",
   "metadata": {},
   "source": [
    "### Task 9: Merge the two data sets (hint: \"Kreisschlüssel\" is the same as \"AGS\")"
   ]
  },
  {
   "cell_type": "code",
   "execution_count": 120,
   "metadata": {
    "collapsed": false
   },
   "outputs": [],
   "source": []
  },
  {
   "cell_type": "markdown",
   "metadata": {},
   "source": [
    "###  Task 10: Plot number of hospitalized patients per inhabitant against relative number of old people (65+)"
   ]
  },
  {
   "cell_type": "code",
   "execution_count": 120,
   "metadata": {
    "collapsed": false
   },
   "outputs": [],
   "source": []
  },
  {
   "cell_type": "markdown",
   "metadata": {},
   "source": [
    "### Task 11: Compute the correlation"
   ]
  },
  {
   "cell_type": "code",
   "execution_count": 120,
   "metadata": {
    "collapsed": false
   },
   "outputs": [],
   "source": []
<<<<<<< HEAD
  }
 ],
 "metadata": {
  "kernelspec": {
   "display_name": "Python 2",
   "language": "python",
   "name": "python2"
  },
  "language_info": {
   "codemirror_mode": {
    "name": "ipython",
    "version": 2
   },
   "file_extension": ".py",
   "mimetype": "text/x-python",
   "name": "python",
   "nbconvert_exporter": "python",
   "pygments_lexer": "ipython2",
   "version": "2.7.6"
  }
=======
  }
 ],
 "metadata": {
  "kernelspec": {
   "display_name": "Python 2",
   "language": "python",
   "name": "python2"
  },
  "language_info": {
   "codemirror_mode": {
    "name": "ipython",
    "version": 2
   },
   "file_extension": ".py",
   "mimetype": "text/x-python",
   "name": "python",
   "nbconvert_exporter": "python",
   "pygments_lexer": "ipython2",
   "version": "2.7.6"
  }
>>>>>>> upstream2/master
 },
 "nbformat": 4,
 "nbformat_minor": 0
}
