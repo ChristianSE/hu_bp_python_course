{
 "cells": [
  {
   "cell_type": "markdown",
   "metadata": {},
   "source": [
    "# Exercises"
   ]
  },
  {
   "cell_type": "code",
   "execution_count": 14,
   "metadata": {
    "collapsed": false
   },
   "outputs": [],
   "source": [
    "import pandas as pd\n",
    "from matplotlib import pyplot as plt\n",
    "plt.style.use('ggplot')\n",
    "%matplotlib inline\n",
    "diamonds = pd.read_csv('diamonds.csv',index_col=0)"
   ]
  },
  {
   "cell_type": "markdown",
   "metadata": {},
   "source": [
    "### Task 1: Find all the diamonds with more than 2 carat and plot their price distribution in a histogram"
   ]
  },
  {
   "cell_type": "code",
   "execution_count": 20,
   "metadata": {
    "collapsed": false
   },
   "outputs": [
    {
     "data": {
      "text/plain": [
       "<matplotlib.axes._subplots.AxesSubplot at 0x7f878be38c10>"
      ]
     },
     "execution_count": 20,
     "metadata": {},
     "output_type": "execute_result"
    },
    {
     "data": {
      "image/png": "[encoded data removed]",
      "text/plain": [
       "<matplotlib.figure.Figure at 0x7f878c37bc90>"
      ]
     },
     "metadata": {},
     "output_type": "display_data"
    }
   ],
   "source": [
    "diamondscarat[diamonds['carat']>2]['price'].plot(kind='hist',bins=50,)\n"
   ]
  },
  {
   "cell_type": "markdown",
   "metadata": {},
   "source": [
    "### Task 2: compute and plot the standard deviation of the x dimension for the different cuts"
   ]
  },
  {
   "cell_type": "code",
   "execution_count": 33,
   "metadata": {
    "collapsed": false
   },
   "outputs": [
    {
     "data": {
      "text/plain": [
       "<matplotlib.axes._subplots.AxesSubplot at 0x7f878b2e8bd0>"
      ]
     },
     "execution_count": 33,
     "metadata": {},
     "output_type": "execute_result"
    },
    {
     "data": {
      "image/png": "[encoded data removed]",
      "text/plain": [
       "<matplotlib.figure.Figure at 0x7f878b5f1910>"
      ]
     },
     "metadata": {},
     "output_type": "display_data"
    }
   ],
   "source": [
    "diamonds.groupby('cut')['x'].std().plot(kind='barh')"
   ]
  },
  {
   "cell_type": "markdown",
   "metadata": {},
   "source": [
    "###Task 3: Import the \"Kernmerkmale Bevölkerung (Geschlecht, Deutsche/Ausländer, 5 Altersgruppen)\" data set\n",
    "\n",
    "https://www.destatis.de/DE/PresseService/Presse/Pressekonferenzen/2013/Zensus2011/zensus_pk.html\n",
    "\n",
    "download the excel file and use the `read_excel` method in pandas (hint: useful arguments are `sheetname`, `header` and `index_col`"
   ]
  },
  {
   "cell_type": "code",
   "execution_count": 41,
   "metadata": {
    "collapsed": false
   },
   "outputs": [
    {
     "name": "stdout",
     "output_type": "stream",
     "text": [
      "       SATZART           AGS                                     NAME  \\\n",
      "0            0             0                              Deutschland   \n",
      "1           10             1                       Schleswig-Holstein   \n",
      "2           20            10  Schleswig-Holstein (fiktiver Reg.-Bez.)   \n",
      "3           40          1001                         Flensburg, Stadt   \n",
      "4           50      10010000                         Flensburg, Stadt   \n",
      "5           60   10010000000                         Flensburg, Stadt   \n",
      "6           40          1002                   Kiel, Landeshauptstadt   \n",
      "7           50      10020000                   Kiel, Landeshauptstadt   \n",
      "8           60   10020000000                   Kiel, Landeshauptstadt   \n",
      "9           40          1003                       Lübeck, Hansestadt   \n",
      "10          50      10030000                       Lübeck, Hansestadt   \n",
      "11          60   10030000000                       Lübeck, Hansestadt   \n",
      "12          40          1004                        Neumünster, Stadt   \n",
      "13          50      10040000                        Neumünster, Stadt   \n",
      "14          60   10040000000                        Neumünster, Stadt   \n",
      "15          40          1051                             Dithmarschen   \n",
      "16          50      10510011                       Brunsbüttel, Stadt   \n",
      "17          60   10510011011                       Brunsbüttel, Stadt   \n",
      "18          50      10510044                             Heide, Stadt   \n",
      "19          60   10510044044                             Heide, Stadt   \n",
      "20          50      10515163                   Burg-St. Michaelisdonn   \n",
      "21          60   10515163003                                  Averlak   \n",
      "22          60   10515163010                                 Brickeln   \n",
      "23          60   10515163012                                 Buchholz   \n",
      "24          60   10515163016                      Burg (Dithmarschen)   \n",
      "25          60   10515163022                                   Dingen   \n",
      "26          60   10515163024                                  Eddelak   \n",
      "27          60   10515163026                                 Eggstedt   \n",
      "28          60   10515163032                                 Frestedt   \n",
      "29          60   10515163037                               Großenrade   \n",
      "...        ...           ...                                      ...   \n",
      "16309       50     160775004                               Pleißenaue   \n",
      "16310       60  160775004005                               Fockendorf   \n",
      "16311       60  160775004007                              Gerstenberg   \n",
      "16312       60  160775004015                                Haselbach   \n",
      "16313       60  160775004048                                   Treben   \n",
      "16314       60  160775004052                            Windischleuba   \n",
      "16315       50     160775005                                   Rositz   \n",
      "16316       60  160775005022                              Kriebitzsch   \n",
      "16317       60  160775005027                                    Lödla   \n",
      "16318       60  160775005034                                  Monstab   \n",
      "16319       60  160775005042                                   Rositz   \n",
      "16320       50     160775008                                 Wieratal   \n",
      "16321       60  160775008006                               Frohnsdorf   \n",
      "16322       60  160775008011                              Göpfersdorf   \n",
      "16323       60  160775008019                               Jückelberg   \n",
      "16324       60  160775008023                   Langenleuba-Niederhain   \n",
      "16325       60  160775008055                               Ziegelheim   \n",
      "16326       50     160775009                       Oberes Sprottental   \n",
      "16327       60  160775009016                               Heukewalde   \n",
      "16328       60  160775009018                               Jonaswalde   \n",
      "16329       60  160775009026                                 Löbichau   \n",
      "16330       60  160775009037                                Nöbdenitz   \n",
      "16331       60  160775009041                              Posterstein   \n",
      "16332       60  160775009047                               Thonhausen   \n",
      "16333       60  160775009049                             Vollmershain   \n",
      "16334       60  160775009051                             Wildenbörten   \n",
      "16335       50     160775050                           Gößnitz, Stadt   \n",
      "16336       60  160775050012                           Gößnitz, Stadt   \n",
      "16337       60  160775050017                               Heyersdorf   \n",
      "16338       60  160775050039                                   Ponitz   \n",
      "\n",
      "            EWZ      EW_M      EW_W      EW_D     EW_A   ALTER_1   ALTER_2  \\\n",
      "0      80219695  39153540  41066140  74050320  6169360  13138580  11391700   \n",
      "1       2800119   1360530   1439590   2683670   116450    477010    362390   \n",
      "2       2800119   1360530   1439590   2683670   116450    477010    362390   \n",
      "3         82258     40660     41590     77140     5120     12150     15640   \n",
      "4         82258     40660     41590     77140     5120     12150     15640   \n",
      "5         82258     40660     41590     77140     5120     12150     15640   \n",
      "6        235782    113400    122380    219670    16120     33940     49130   \n",
      "7        235782    113400    122380    219670    16120     33940     49130   \n",
      "8        235782    113400    122380    219670    16120     33940     49130   \n",
      "9        210305     99880    110420    197390    12910     31590     31520   \n",
      "10       210305     99880    110420    197390    12910     31590     31520   \n",
      "11       210305     99880    110420    197390    12910     31590     31520   \n",
      "12        77249     37650     39600     72470     4780     12900     11320   \n",
      "13        77249     37650     39600     72470     4780     12900     11320   \n",
      "14        77249     37650     39600     72470     4780     12900     11320   \n",
      "15       133900     65480     68420    130720     3180     23830     16270   \n",
      "16        12834      6360      6470     12410      430      2180      1610   \n",
      "17        12834      6360      6470     12410      430      2180      1610   \n",
      "18        20768      9740     11030     19840      930      3280      3350   \n",
      "19        20768      9740     11030     19840      930      3280      3350   \n",
      "20        16317      8036      8281     16084      233      3145      1898   \n",
      "21          615       309       306       603       12       112        76   \n",
      "22          208       104       105       209        0        62        18   \n",
      "23         1080       546       534      1068       12       253       118   \n",
      "24         4219      2020      2199      4129       90       723       483   \n",
      "25          658       331       327       658        0       124        72   \n",
      "26         1398       690       708      1389        9       287       167   \n",
      "27          772       388       384       772        0       151        77   \n",
      "28          374       186       188       362       12        80        37   \n",
      "29          493       244       248       486        6        84        61   \n",
      "...         ...       ...       ...       ...      ...       ...       ...   \n",
      "16309      5558      2740      2819      5532       27       648       571   \n",
      "16310       843       425       418       834        9        92        88   \n",
      "16311       518       247       271       518        0        54        57   \n",
      "16312       832       415       417       832        0       111        83   \n",
      "16313      1284       606       678      1278        6       145       135   \n",
      "16314      2081      1047      1035      2070       12       246       208   \n",
      "16315      5300      2609      2691      5276       24       657       536   \n",
      "16316      1125       556       569      1119        6       122       121   \n",
      "16317       707       346       361       707        0        82        57   \n",
      "16318       464       226       238       464        0        69        43   \n",
      "16319      3004      1481      1523      2986       18       384       315   \n",
      "16320      3623      1852      1770      3619        3       504       411   \n",
      "16321       292       147       145       292        0        30        43   \n",
      "16322       245       124       121       242        3        39        33   \n",
      "16323       310       160       150       310        0        54        33   \n",
      "16324      1916       982       933      1915        0       284       203   \n",
      "16325       860       439       421       860        0        97        99   \n",
      "16326      4172      2104      2067      4162        9       538       462   \n",
      "16327       218       105       114       219        0        30        30   \n",
      "16328       321       166       155       318        3        48        40   \n",
      "16329      1041       516       525      1041        0       127       129   \n",
      "16330       938       478       459       937        0       113        93   \n",
      "16331       447       232       214       446        0        69        52   \n",
      "16332       571       287       284       571        0        78        44   \n",
      "16333       329       162       167       326        3        47        45   \n",
      "16334       307       158       149       304        3        26        29   \n",
      "16335      5463      2691      2772      5438       25       668       595   \n",
      "16336      3724      1804      1920      3702       22       431       411   \n",
      "16337       138        76        61       137        0        15        18   \n",
      "16338      1601       811       791      1599        3       222       166   \n",
      "\n",
      "        ALTER_3   ALTER_4   ALTER_5  \n",
      "0      22838880  16333080  16517450  \n",
      "1        790060    563490    607170  \n",
      "2        790060    563490    607170  \n",
      "3         22130     15560     16770  \n",
      "4         22130     15560     16770  \n",
      "5         22130     15560     16770  \n",
      "6         67910     41730     43090  \n",
      "7         67910     41730     43090  \n",
      "8         67910     41730     43090  \n",
      "9         58380     40390     48420  \n",
      "10        58380     40390     48420  \n",
      "11        58380     40390     48420  \n",
      "12        20820     15250     16960  \n",
      "13        20820     15250     16960  \n",
      "14        20820     15250     16960  \n",
      "15        35430     27750     30620  \n",
      "16         3330      2880      2840  \n",
      "17         3330      2880      2840  \n",
      "18         5300      3980      4850  \n",
      "19         5300      3980      4850  \n",
      "20         4348      3369      3557  \n",
      "21          174       143       110  \n",
      "22           71        25        33  \n",
      "23          306       222       181  \n",
      "24          979       906      1128  \n",
      "25          183       147       132  \n",
      "26          440       257       247  \n",
      "27          229       159       156  \n",
      "28          106        69        82  \n",
      "29          137       108       102  \n",
      "...         ...       ...       ...  \n",
      "16309      1542      1451      1347  \n",
      "16310       247       212       204  \n",
      "16311       148       122       137  \n",
      "16312       231       213       194  \n",
      "16313       329       310       365  \n",
      "16314       587       594       447  \n",
      "16315      1428      1342      1337  \n",
      "16316       306       298       278  \n",
      "16317       204       205       159  \n",
      "16318       140       107       105  \n",
      "16319       778       732       795  \n",
      "16320      1016       806       885  \n",
      "16321        77        68        74  \n",
      "16322        78        50        45  \n",
      "16323        84        59        80  \n",
      "16324       541       425       462  \n",
      "16325       236       204       224  \n",
      "16326      1170      1020       981  \n",
      "16327        54        54        51  \n",
      "16328        97        72        64  \n",
      "16329       287       237       261  \n",
      "16330       250       242       239  \n",
      "16331       156        94        75  \n",
      "16332       155       138       156  \n",
      "16333        90        89        58  \n",
      "16334        81        94        77  \n",
      "16335      1393      1258      1549  \n",
      "16336       897       823      1162  \n",
      "16337        38        33        33  \n",
      "16338       458       402       354  \n",
      "\n",
      "[16339 rows x 13 columns]\n"
     ]
    }
   ],
   "source": [
    "data = pd.read_excel('/local/home/biostudent202/Desktop/scratch/Fachkurs_Python/ChristianS/05_dataio_matplotlib/demo_excel.xls;jsessionid=459092312DC674803D37A4DD8F5F0494.cae3', sheetname=2, header=3, index_col1=1)\n",
    "print data"
   ]
  },
  {
   "cell_type": "markdown",
   "metadata": {},
   "source": [
    "### Task 4: Create a new DataFrame containing only the \"Bundesländer\" (hint: use the corresponding SATZART key)"
   ]
  },
  {
   "cell_type": "code",
   "execution_count": 63,
   "metadata": {
    "collapsed": false
   },
   "outputs": [
    {
     "name": "stdout",
     "output_type": "stream",
     "text": [
      "       SATZART  AGS                    NAME       EWZ     EW_M     EW_W  \\\n",
      "1           10    1      Schleswig-Holstein   2800119  1360530  1439590   \n",
      "1304        10    2                 Hamburg   1706696   826140   880560   \n",
      "1309        10    3           Niedersachsen   7777992  3804410  3973590   \n",
      "2807        10    4                  Bremen    650863   316110   334750   \n",
      "2815        10    5     Nordrhein-Westfalen  17538251  8521230  9017020   \n",
      "3666        10    6                  Hessen   5971816  2914740  3057080   \n",
      "4548        10    7         Rheinland-Pfalz   3989808  1950420  2039380   \n",
      "7103        10    8       Baden-Württemberg  10486660  5133480  5353190   \n",
      "8713        10    9                  Bayern  12397614  6062910  6334700   \n",
      "12255       10   10                Saarland    999623   485380   514240   \n",
      "12367       10   11                  Berlin   3292365  1599840  1692530   \n",
      "12372       10   12             Brandenburg   2455780  1207850  1247920   \n",
      "13012       10   13  Mecklenburg-Vorpommern   1609982   793310   816670   \n",
      "13959       10   14                 Sachsen   4056799  1978040  2078760   \n",
      "14772       10   15          Sachsen-Anhalt   2287040  1116850  1170190   \n",
      "15129       10   16               Thüringen   2188589  1076410  1112180   \n",
      "\n",
      "           EW_D     EW_A  ALTER_1  ALTER_2  ALTER_3  ALTER_4  ALTER_5  \n",
      "1       2683670   116450   477010   362390   790060   563490   607170  \n",
      "1304    1495810   210890   267800   275420   537600   301700   324180  \n",
      "1309    7351250   426750  1356370  1049040  2188170  1569480  1614940  \n",
      "2807     580340    70520    98850   105260   181880   126940   137940  \n",
      "2815   15931170  1607080  2984650  2481470  4993250  3525620  3553260  \n",
      "3666    5311720   660090  1005660   834310  1746430  1205160  1180260  \n",
      "4548    3718250   271560   664260   562230  1109500   841540   812270  \n",
      "7103    9353030  1133630  1853540  1547500  2997710  2053400  2034520  \n",
      "8713   11383180  1014430  2112190  1797760  3613220  2459360  2415070  \n",
      "12255    933360    66270   148980   135930   269470   224680   220560  \n",
      "12367   2920090   372280   494150   535310  1004770   624090   634030  \n",
      "12372   2413580    42190   337040   309010   691800   562490   555430  \n",
      "13012   1582250    27730   215300   228240   434590   375550   356300  \n",
      "13959   3979760    77030   543160   558590  1077560   870980  1006500  \n",
      "14772   2247810    39230   290700   304600   610810   524660   556270  \n",
      "15129   2155360    33230   286960   303570   587720   501650   508700  \n"
     ]
    }
   ],
   "source": [
    "ldata=data[data['SATZART']==10]\n",
    "ldata.set_index('NAME')\n",
    "print ldata\n",
    "#df = data.loc[1,10]"
   ]
  },
  {
   "cell_type": "markdown",
   "metadata": {},
   "source": [
    "### Task 5: Plot the age composition of the different Bundesländer"
   ]
  },
  {
   "cell_type": "code",
   "execution_count": 64,
   "metadata": {
    "collapsed": false
   },
   "outputs": [
    {
     "data": {
      "text/plain": [
       "<matplotlib.axes._subplots.AxesSubplot at 0x7f878b592e10>"
      ]
     },
     "execution_count": 64,
     "metadata": {},
     "output_type": "execute_result"
    },
    {
     "data": {
      "image/png": "[encoded data removed]",
      "text/plain": [
       "<matplotlib.figure.Figure at 0x7f878bd2ac50>"
      ]
     },
     "metadata": {},
     "output_type": "display_data"
    }
   ],
   "source": [
    "#ldata.sort('EW_A', ascending=False)\n",
    "#ldata['EW_A']/ldata['EW_D']*100\n",
    "#plot(x = ldata['EW_A']/ldata['EW_D']*100, y = 'NAME')\n",
    "\n",
    "ldata[['ALTER_1','ALTER_2','ALTER_3','ALTER_4','ALTER_5']].plot(kind='bar')"
   ]
  },
  {
   "cell_type": "markdown",
   "metadata": {},
   "source": [
    "### Task 6: ...and now relative to the population in each Bundesland"
   ]
  },
  {
   "cell_type": "code",
   "execution_count": 70,
   "metadata": {
    "collapsed": false
   },
   "outputs": [
    {
     "ename": "KeyError",
     "evalue": "('ALTER_1', 'ALTER_2', 'ALTER_3', 'ALTER_4', 'ALTER_5')",
     "output_type": "error",
     "traceback": [
      "\u001b[0;31m---------------------------------------------------------------------------\u001b[0m",
      "\u001b[0;31mKeyError\u001b[0m                                  Traceback (most recent call last)",
      "\u001b[0;32m<ipython-input-70-49bf32c2a693>\u001b[0m in \u001b[0;36m<module>\u001b[0;34m()\u001b[0m\n\u001b[0;32m----> 1\u001b[0;31m \u001b[0magedata\u001b[0m \u001b[0;34m=\u001b[0m \u001b[0mldata\u001b[0m\u001b[0;34m[\u001b[0m\u001b[0mldata\u001b[0m\u001b[0;34m[\u001b[0m\u001b[0;34m\"ALTER_1\"\u001b[0m\u001b[0;34m,\u001b[0m\u001b[0;34m'ALTER_2'\u001b[0m\u001b[0;34m,\u001b[0m\u001b[0;34m'ALTER_3'\u001b[0m\u001b[0;34m,\u001b[0m\u001b[0;34m'ALTER_4'\u001b[0m\u001b[0;34m,\u001b[0m\u001b[0;34m'ALTER_5'\u001b[0m\u001b[0;34m]\u001b[0m\u001b[0;34m]\u001b[0m\u001b[0;34m.\u001b[0m\u001b[0msum\u001b[0m\u001b[0;34m(\u001b[0m\u001b[0;34m)\u001b[0m\u001b[0;34m.\u001b[0m\u001b[0munstack\u001b[0m\u001b[0;34m(\u001b[0m\u001b[0;34m)\u001b[0m\u001b[0;34m\u001b[0m\u001b[0m\n\u001b[0m\u001b[1;32m      2\u001b[0m \u001b[0magedata\u001b[0m\u001b[0;34m.\u001b[0m\u001b[0mplot\u001b[0m\u001b[0;34m(\u001b[0m\u001b[0mkind\u001b[0m\u001b[0;34m=\u001b[0m\u001b[0;34m\"bar\"\u001b[0m\u001b[0;34m,\u001b[0m \u001b[0mstacked\u001b[0m\u001b[0;34m=\u001b[0m\u001b[0mTrue\u001b[0m\u001b[0;34m)\u001b[0m\u001b[0;34m\u001b[0m\u001b[0m\n",
      "\u001b[0;32m/usr/lib/python2.7/dist-packages/pandas/core/frame.pyc\u001b[0m in \u001b[0;36m__getitem__\u001b[0;34m(self, key)\u001b[0m\n\u001b[1;32m   1778\u001b[0m             \u001b[0;32mreturn\u001b[0m \u001b[0mself\u001b[0m\u001b[0;34m.\u001b[0m\u001b[0m_getitem_multilevel\u001b[0m\u001b[0;34m(\u001b[0m\u001b[0mkey\u001b[0m\u001b[0;34m)\u001b[0m\u001b[0;34m\u001b[0m\u001b[0m\n\u001b[1;32m   1779\u001b[0m         \u001b[0;32melse\u001b[0m\u001b[0;34m:\u001b[0m\u001b[0;34m\u001b[0m\u001b[0m\n\u001b[0;32m-> 1780\u001b[0;31m             \u001b[0;32mreturn\u001b[0m \u001b[0mself\u001b[0m\u001b[0;34m.\u001b[0m\u001b[0m_getitem_column\u001b[0m\u001b[0;34m(\u001b[0m\u001b[0mkey\u001b[0m\u001b[0;34m)\u001b[0m\u001b[0;34m\u001b[0m\u001b[0m\n\u001b[0m\u001b[1;32m   1781\u001b[0m \u001b[0;34m\u001b[0m\u001b[0m\n\u001b[1;32m   1782\u001b[0m     \u001b[0;32mdef\u001b[0m \u001b[0m_getitem_column\u001b[0m\u001b[0;34m(\u001b[0m\u001b[0mself\u001b[0m\u001b[0;34m,\u001b[0m \u001b[0mkey\u001b[0m\u001b[0;34m)\u001b[0m\u001b[0;34m:\u001b[0m\u001b[0;34m\u001b[0m\u001b[0m\n",
      "\u001b[0;32m/usr/lib/python2.7/dist-packages/pandas/core/frame.pyc\u001b[0m in \u001b[0;36m_getitem_column\u001b[0;34m(self, key)\u001b[0m\n\u001b[1;32m   1785\u001b[0m         \u001b[0;31m# get column\u001b[0m\u001b[0;34m\u001b[0m\u001b[0;34m\u001b[0m\u001b[0m\n\u001b[1;32m   1786\u001b[0m         \u001b[0;32mif\u001b[0m \u001b[0mself\u001b[0m\u001b[0;34m.\u001b[0m\u001b[0mcolumns\u001b[0m\u001b[0;34m.\u001b[0m\u001b[0mis_unique\u001b[0m\u001b[0;34m:\u001b[0m\u001b[0;34m\u001b[0m\u001b[0m\n\u001b[0;32m-> 1787\u001b[0;31m             \u001b[0;32mreturn\u001b[0m \u001b[0mself\u001b[0m\u001b[0;34m.\u001b[0m\u001b[0m_get_item_cache\u001b[0m\u001b[0;34m(\u001b[0m\u001b[0mkey\u001b[0m\u001b[0;34m)\u001b[0m\u001b[0;34m\u001b[0m\u001b[0m\n\u001b[0m\u001b[1;32m   1788\u001b[0m \u001b[0;34m\u001b[0m\u001b[0m\n\u001b[1;32m   1789\u001b[0m         \u001b[0;31m# duplicate columns & possible reduce dimensionaility\u001b[0m\u001b[0;34m\u001b[0m\u001b[0;34m\u001b[0m\u001b[0m\n",
      "\u001b[0;32m/usr/lib/python2.7/dist-packages/pandas/core/generic.pyc\u001b[0m in \u001b[0;36m_get_item_cache\u001b[0;34m(self, item)\u001b[0m\n\u001b[1;32m   1066\u001b[0m         \u001b[0mres\u001b[0m \u001b[0;34m=\u001b[0m \u001b[0mcache\u001b[0m\u001b[0;34m.\u001b[0m\u001b[0mget\u001b[0m\u001b[0;34m(\u001b[0m\u001b[0mitem\u001b[0m\u001b[0;34m)\u001b[0m\u001b[0;34m\u001b[0m\u001b[0m\n\u001b[1;32m   1067\u001b[0m         \u001b[0;32mif\u001b[0m \u001b[0mres\u001b[0m \u001b[0;32mis\u001b[0m \u001b[0mNone\u001b[0m\u001b[0;34m:\u001b[0m\u001b[0;34m\u001b[0m\u001b[0m\n\u001b[0;32m-> 1068\u001b[0;31m             \u001b[0mvalues\u001b[0m \u001b[0;34m=\u001b[0m \u001b[0mself\u001b[0m\u001b[0;34m.\u001b[0m\u001b[0m_data\u001b[0m\u001b[0;34m.\u001b[0m\u001b[0mget\u001b[0m\u001b[0;34m(\u001b[0m\u001b[0mitem\u001b[0m\u001b[0;34m)\u001b[0m\u001b[0;34m\u001b[0m\u001b[0m\n\u001b[0m\u001b[1;32m   1069\u001b[0m             \u001b[0mres\u001b[0m \u001b[0;34m=\u001b[0m \u001b[0mself\u001b[0m\u001b[0;34m.\u001b[0m\u001b[0m_box_item_values\u001b[0m\u001b[0;34m(\u001b[0m\u001b[0mitem\u001b[0m\u001b[0;34m,\u001b[0m \u001b[0mvalues\u001b[0m\u001b[0;34m)\u001b[0m\u001b[0;34m\u001b[0m\u001b[0m\n\u001b[1;32m   1070\u001b[0m             \u001b[0mcache\u001b[0m\u001b[0;34m[\u001b[0m\u001b[0mitem\u001b[0m\u001b[0;34m]\u001b[0m \u001b[0;34m=\u001b[0m \u001b[0mres\u001b[0m\u001b[0;34m\u001b[0m\u001b[0m\n",
      "\u001b[0;32m/usr/lib/python2.7/dist-packages/pandas/core/internals.pyc\u001b[0m in \u001b[0;36mget\u001b[0;34m(self, item, fastpath)\u001b[0m\n\u001b[1;32m   2847\u001b[0m \u001b[0;34m\u001b[0m\u001b[0m\n\u001b[1;32m   2848\u001b[0m             \u001b[0;32mif\u001b[0m \u001b[0;32mnot\u001b[0m \u001b[0misnull\u001b[0m\u001b[0;34m(\u001b[0m\u001b[0mitem\u001b[0m\u001b[0;34m)\u001b[0m\u001b[0;34m:\u001b[0m\u001b[0;34m\u001b[0m\u001b[0m\n\u001b[0;32m-> 2849\u001b[0;31m                 \u001b[0mloc\u001b[0m \u001b[0;34m=\u001b[0m \u001b[0mself\u001b[0m\u001b[0;34m.\u001b[0m\u001b[0mitems\u001b[0m\u001b[0;34m.\u001b[0m\u001b[0mget_loc\u001b[0m\u001b[0;34m(\u001b[0m\u001b[0mitem\u001b[0m\u001b[0;34m)\u001b[0m\u001b[0;34m\u001b[0m\u001b[0m\n\u001b[0m\u001b[1;32m   2850\u001b[0m             \u001b[0;32melse\u001b[0m\u001b[0;34m:\u001b[0m\u001b[0;34m\u001b[0m\u001b[0m\n\u001b[1;32m   2851\u001b[0m                 \u001b[0mindexer\u001b[0m \u001b[0;34m=\u001b[0m \u001b[0mnp\u001b[0m\u001b[0;34m.\u001b[0m\u001b[0marange\u001b[0m\u001b[0;34m(\u001b[0m\u001b[0mlen\u001b[0m\u001b[0;34m(\u001b[0m\u001b[0mself\u001b[0m\u001b[0;34m.\u001b[0m\u001b[0mitems\u001b[0m\u001b[0;34m)\u001b[0m\u001b[0;34m)\u001b[0m\u001b[0;34m[\u001b[0m\u001b[0misnull\u001b[0m\u001b[0;34m(\u001b[0m\u001b[0mself\u001b[0m\u001b[0;34m.\u001b[0m\u001b[0mitems\u001b[0m\u001b[0;34m)\u001b[0m\u001b[0;34m]\u001b[0m\u001b[0;34m\u001b[0m\u001b[0m\n",
      "\u001b[0;32m/usr/lib/python2.7/dist-packages/pandas/core/index.pyc\u001b[0m in \u001b[0;36mget_loc\u001b[0;34m(self, key)\u001b[0m\n\u001b[1;32m   1400\u001b[0m         \u001b[0mloc\u001b[0m \u001b[0;34m:\u001b[0m \u001b[0mint\u001b[0m \u001b[0;32mif\u001b[0m \u001b[0munique\u001b[0m \u001b[0mindex\u001b[0m\u001b[0;34m,\u001b[0m \u001b[0mpossibly\u001b[0m \u001b[0mslice\u001b[0m \u001b[0;32mor\u001b[0m \u001b[0mmask\u001b[0m \u001b[0;32mif\u001b[0m \u001b[0;32mnot\u001b[0m\u001b[0;34m\u001b[0m\u001b[0m\n\u001b[1;32m   1401\u001b[0m         \"\"\"\n\u001b[0;32m-> 1402\u001b[0;31m         \u001b[0;32mreturn\u001b[0m \u001b[0mself\u001b[0m\u001b[0;34m.\u001b[0m\u001b[0m_engine\u001b[0m\u001b[0;34m.\u001b[0m\u001b[0mget_loc\u001b[0m\u001b[0;34m(\u001b[0m\u001b[0m_values_from_object\u001b[0m\u001b[0;34m(\u001b[0m\u001b[0mkey\u001b[0m\u001b[0;34m)\u001b[0m\u001b[0;34m)\u001b[0m\u001b[0;34m\u001b[0m\u001b[0m\n\u001b[0m\u001b[1;32m   1403\u001b[0m \u001b[0;34m\u001b[0m\u001b[0m\n\u001b[1;32m   1404\u001b[0m     \u001b[0;32mdef\u001b[0m \u001b[0mget_value\u001b[0m\u001b[0;34m(\u001b[0m\u001b[0mself\u001b[0m\u001b[0;34m,\u001b[0m \u001b[0mseries\u001b[0m\u001b[0;34m,\u001b[0m \u001b[0mkey\u001b[0m\u001b[0;34m)\u001b[0m\u001b[0;34m:\u001b[0m\u001b[0;34m\u001b[0m\u001b[0m\n",
      "\u001b[0;32mpandas/index.pyx\u001b[0m in \u001b[0;36mpandas.index.IndexEngine.get_loc (pandas/index.c:3807)\u001b[0;34m()\u001b[0m\n",
      "\u001b[0;32mpandas/index.pyx\u001b[0m in \u001b[0;36mpandas.index.IndexEngine.get_loc (pandas/index.c:3687)\u001b[0;34m()\u001b[0m\n",
      "\u001b[0;32mpandas/hashtable.pyx\u001b[0m in \u001b[0;36mpandas.hashtable.PyObjectHashTable.get_item (pandas/hashtable.c:12310)\u001b[0;34m()\u001b[0m\n",
      "\u001b[0;32mpandas/hashtable.pyx\u001b[0m in \u001b[0;36mpandas.hashtable.PyObjectHashTable.get_item (pandas/hashtable.c:12261)\u001b[0;34m()\u001b[0m\n",
      "\u001b[0;31mKeyError\u001b[0m: ('ALTER_1', 'ALTER_2', 'ALTER_3', 'ALTER_4', 'ALTER_5')"
     ]
    }
   ],
   "source": [
    "\n",
    "agedata = ldata[ldata[\"ALTER_1\",'ALTER_2','ALTER_3','ALTER_4','ALTER_5']].sum().unstack()\n",
    "agedata.plot(kind=\"bar\", stacked=True)"
   ]
  },
  {
   "cell_type": "markdown",
   "metadata": {},
   "source": [
    "### Task 7: Plot pie charts of the relative age distribution in Berlin and Sachsen"
   ]
  },
  {
   "cell_type": "code",
   "execution_count": 72,
   "metadata": {
    "collapsed": false
   },
   "outputs": [
    {
     "ename": "ValueError",
     "evalue": "pie requires either y column or 'subplots=True'",
     "output_type": "error",
     "traceback": [
      "\u001b[0;31m---------------------------------------------------------------------------\u001b[0m",
      "\u001b[0;31mValueError\u001b[0m                                Traceback (most recent call last)",
      "\u001b[0;32m<ipython-input-72-a48484847c2d>\u001b[0m in \u001b[0;36m<module>\u001b[0;34m()\u001b[0m\n\u001b[0;32m----> 1\u001b[0;31m \u001b[0mldata\u001b[0m\u001b[0;34m.\u001b[0m\u001b[0mplot\u001b[0m\u001b[0;34m(\u001b[0m\u001b[0;34m'EWZ'\u001b[0m\u001b[0;34m,\u001b[0m\u001b[0mkind\u001b[0m\u001b[0;34m=\u001b[0m\u001b[0;34m'pie'\u001b[0m\u001b[0;34m)\u001b[0m\u001b[0;34m\u001b[0m\u001b[0m\n\u001b[0m",
      "\u001b[0;32m/usr/lib/python2.7/dist-packages/pandas/tools/plotting.pyc\u001b[0m in \u001b[0;36mplot_frame\u001b[0;34m(data, x, y, kind, ax, subplots, sharex, sharey, layout, figsize, use_index, title, grid, legend, style, logx, logy, loglog, xticks, yticks, xlim, ylim, rot, fontsize, colormap, table, yerr, xerr, secondary_y, sort_columns, **kwds)\u001b[0m\n\u001b[1;32m   2475\u001b[0m                  \u001b[0myerr\u001b[0m\u001b[0;34m=\u001b[0m\u001b[0myerr\u001b[0m\u001b[0;34m,\u001b[0m \u001b[0mxerr\u001b[0m\u001b[0;34m=\u001b[0m\u001b[0mxerr\u001b[0m\u001b[0;34m,\u001b[0m\u001b[0;34m\u001b[0m\u001b[0m\n\u001b[1;32m   2476\u001b[0m                  \u001b[0msecondary_y\u001b[0m\u001b[0;34m=\u001b[0m\u001b[0msecondary_y\u001b[0m\u001b[0;34m,\u001b[0m \u001b[0msort_columns\u001b[0m\u001b[0;34m=\u001b[0m\u001b[0msort_columns\u001b[0m\u001b[0;34m,\u001b[0m\u001b[0;34m\u001b[0m\u001b[0m\n\u001b[0;32m-> 2477\u001b[0;31m                  **kwds)\n\u001b[0m\u001b[1;32m   2478\u001b[0m \u001b[0;34m\u001b[0m\u001b[0m\n\u001b[1;32m   2479\u001b[0m \u001b[0;34m\u001b[0m\u001b[0m\n",
      "\u001b[0;32m/usr/lib/python2.7/dist-packages/pandas/tools/plotting.pyc\u001b[0m in \u001b[0;36m_plot\u001b[0;34m(data, x, y, subplots, ax, kind, **kwds)\u001b[0m\n\u001b[1;32m   2281\u001b[0m             \u001b[0;32mif\u001b[0m \u001b[0my\u001b[0m \u001b[0;32mis\u001b[0m \u001b[0mNone\u001b[0m \u001b[0;32mand\u001b[0m \u001b[0msubplots\u001b[0m \u001b[0;32mis\u001b[0m \u001b[0mFalse\u001b[0m\u001b[0;34m:\u001b[0m\u001b[0;34m\u001b[0m\u001b[0m\n\u001b[1;32m   2282\u001b[0m                 \u001b[0mmsg\u001b[0m \u001b[0;34m=\u001b[0m \u001b[0;34m\"{0} requires either y column or 'subplots=True'\"\u001b[0m\u001b[0;34m\u001b[0m\u001b[0m\n\u001b[0;32m-> 2283\u001b[0;31m                 \u001b[0;32mraise\u001b[0m \u001b[0mValueError\u001b[0m\u001b[0;34m(\u001b[0m\u001b[0mmsg\u001b[0m\u001b[0;34m.\u001b[0m\u001b[0mformat\u001b[0m\u001b[0;34m(\u001b[0m\u001b[0mkind\u001b[0m\u001b[0;34m)\u001b[0m\u001b[0;34m)\u001b[0m\u001b[0;34m\u001b[0m\u001b[0m\n\u001b[0m\u001b[1;32m   2284\u001b[0m             \u001b[0;32melif\u001b[0m \u001b[0my\u001b[0m \u001b[0;32mis\u001b[0m \u001b[0;32mnot\u001b[0m \u001b[0mNone\u001b[0m\u001b[0;34m:\u001b[0m\u001b[0;34m\u001b[0m\u001b[0m\n\u001b[1;32m   2285\u001b[0m                 \u001b[0;32mif\u001b[0m \u001b[0mcom\u001b[0m\u001b[0;34m.\u001b[0m\u001b[0mis_integer\u001b[0m\u001b[0;34m(\u001b[0m\u001b[0my\u001b[0m\u001b[0;34m)\u001b[0m \u001b[0;32mand\u001b[0m \u001b[0;32mnot\u001b[0m \u001b[0mdata\u001b[0m\u001b[0;34m.\u001b[0m\u001b[0mcolumns\u001b[0m\u001b[0;34m.\u001b[0m\u001b[0mholds_integer\u001b[0m\u001b[0;34m(\u001b[0m\u001b[0;34m)\u001b[0m\u001b[0;34m:\u001b[0m\u001b[0;34m\u001b[0m\u001b[0m\n",
      "\u001b[0;31mValueError\u001b[0m: pie requires either y column or 'subplots=True'"
     ]
    }
   ],
   "source": [
    "ldata.plot('EWZ',kind='pie')"
   ]
  },
  {
   "cell_type": "code",
   "execution_count": 120,
   "metadata": {
    "collapsed": false
   },
   "outputs": [],
   "source": []
  },
  {
   "cell_type": "markdown",
   "metadata": {},
   "source": [
    "###Task 8: Import a health care data set from Zeit online \n",
    "\n",
    "The file is in the git repository: `multiresistente_keime.xlsx`. Import it using the `read_excel` function.\n"
   ]
  },
  {
   "cell_type": "code",
   "execution_count": 120,
   "metadata": {
    "collapsed": false
   },
   "outputs": [],
   "source": []
  },
  {
   "cell_type": "markdown",
   "metadata": {},
   "source": [
    "### Task 9: Merge the two data sets (hint: \"Kreisschlüssel\" is the same as \"AGS\")"
   ]
  },
  {
   "cell_type": "code",
   "execution_count": 120,
   "metadata": {
    "collapsed": false
   },
   "outputs": [],
   "source": []
  },
  {
   "cell_type": "markdown",
   "metadata": {},
   "source": [
    "###  Task 10: Plot number of hospitalized patients per inhabitant against relative number of old people (65+)"
   ]
  },
  {
   "cell_type": "code",
   "execution_count": 120,
   "metadata": {
    "collapsed": false
   },
   "outputs": [],
   "source": []
  },
  {
   "cell_type": "markdown",
   "metadata": {},
   "source": [
    "### Task 11: Compute the correlation"
   ]
  },
  {
   "cell_type": "code",
   "execution_count": 120,
   "metadata": {
    "collapsed": false
   },
   "outputs": [],
   "source": []
  }
 ],
 "metadata": {
  "kernelspec": {
   "display_name": "Python 2",
   "language": "python",
   "name": "python2"
  },
  "language_info": {
   "codemirror_mode": {
    "name": "ipython",
    "version": 2
   },
   "file_extension": ".py",
   "mimetype": "text/x-python",
   "name": "python",
   "nbconvert_exporter": "python",
   "pygments_lexer": "ipython2",
   "version": "2.7.6"
  }
 },
 "nbformat": 4,
 "nbformat_minor": 0
}
