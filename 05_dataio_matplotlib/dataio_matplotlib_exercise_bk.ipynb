{
 "cells": [
<<<<<<< HEAD
=======
  {
   "cell_type": "markdown",
   "metadata": {},
   "source": [
    "# Exercise 1: reading FASTA files"
   ]
  },
  {
   "cell_type": "markdown",
   "metadata": {},
   "source": [
    "The [FASTA](http://en.wikipedia.org/wiki/FASTA_format)-format is a text-based format for nucleotide and protein sequences. A FASTA File begins with a single line description which is indicated by a leading \">\".\n",
    "\n",
    "Example:\n",
    "\n",
    "> \\>gi|31563518|ref|NP_852610.1| microtubule-associated proteins 1A/1B light chain 3A isoform b [Homo sapiens] MKMRFFSSPCGKAAVDPADRCKEVQQIRDQHPSKIPVIIERYKGEKQLPVLDKTKFLVPDHVNMSELVKIIRRRLQLNPTQAFFLLVNQHSMVSVSTPIADIYEQEKDEDGFLYMVYASQETFGFIRENE\n",
    "\n",
    "* parse the nucleotide sequence in the file `GPD1_seq.fasta` (omit the description line)\n",
    "* write a function `compute_nt_composition( sequence )`, which returns a dictionary containing the number of ocurrences for each base in a given sequence\n",
    "* compute the nucleotide composition of the GDP1 protein and pickle the result to a file\n"
   ]
  },
  {
   "cell_type": "code",
   "execution_count": 78,
   "metadata": {
    "collapsed": false
   },
   "outputs": [],
   "source": [
    "import cPickle as pickle"
   ]
  },
  {
   "cell_type": "markdown",
   "metadata": {},
   "source": [
    "# Exercise 2: Plot a histogram\n",
    "\n",
    "take the nucleotide composition of the gene above and plot a histogram of the A, T, G and C frequency. Have your histogram labeled nicely and give it a title. Please, choose yourself if you would like to display horizontal or vertical bars. Advanced options include change of color for individual bars, width of the bars and alignment of labels and bars."
   ]
  },
  {
   "cell_type": "code",
   "execution_count": 79,
   "metadata": {
    "collapsed": false
   },
   "outputs": [],
   "source": [
    "%matplotlib inline \n",
    "from pylab import *"
   ]
  },
>>>>>>> upstream2/master
  {
   "cell_type": "markdown",
   "metadata": {},
   "source": [
<<<<<<< HEAD
    "# Exercise 1: reading FASTA files"
   ]
  },
  {
   "cell_type": "markdown",
   "metadata": {},
   "source": [
    "The [FASTA](http://en.wikipedia.org/wiki/FASTA_format)-format is a text-based format for nucleotide and protein sequences. A FASTA File begins with a single line description which is indicated by a leading \">\".\n",
    "\n",
    "Example:\n",
    "\n",
    "> \\>gi|31563518|ref|NP_852610.1| microtubule-associated proteins 1A/1B light chain 3A isoform b [Homo sapiens] MKMRFFSSPCGKAAVDPADRCKEVQQIRDQHPSKIPVIIERYKGEKQLPVLDKTKFLVPDHVNMSELVKIIRRRLQLNPTQAFFLLVNQHSMVSVSTPIADIYEQEKDEDGFLYMVYASQETFGFIRENE\n",
    "\n",
    "* parse the nucleotide sequence in the file `GPD1_seq.fasta` (omit the description line)\n",
    "* write a function `compute_nt_composition( sequence )`, which returns a dictionary containing the number of ocurrences for each base in a given sequence\n",
    "* compute the nucleotide composition of the GDP1 protein and pickle the result to a file\n"
   ]
  },
  {
   "cell_type": "code",
   "execution_count": 1,
   "metadata": {
    "collapsed": false
   },
   "outputs": [
    {
     "ename": "SyntaxError",
     "evalue": "invalid syntax (<ipython-input-1-78af41ce04e5>, line 8)",
     "output_type": "error",
     "traceback": [
      "\u001b[0;36m  File \u001b[0;32m\"<ipython-input-1-78af41ce04e5>\"\u001b[0;36m, line \u001b[0;32m8\u001b[0m\n\u001b[0;31m    if line.startswith('>')\u001b[0m\n\u001b[0m                           ^\u001b[0m\n\u001b[0;31mSyntaxError\u001b[0m\u001b[0;31m:\u001b[0m invalid syntax\n"
     ]
    }
   ],
   "source": [
    "import cPickle as pickle\n",
    "from collections import Counter\n",
    "with open(GPD1_seq.fasta, 'r') as f:\n",
    "    data = f.readlines()\n",
    "    data.strip()\n",
    "    \n",
    "for line in data:\n",
    "    if line.startswith('>')\n",
    "        continue\n",
    "    sequence = data + (data + 1)\n",
    "    sequence = ''.join(sequence)\n",
    "    return sequence    \n",
    "\n",
    "compute_nt_composition=Counter(sequence)\n",
    "with open('ncomp.p', 'w') as n:\n",
    "    pickle.dump(compute_nt_composition, n)"
   ]
  },
  {
   "cell_type": "markdown",
   "metadata": {},
   "source": [
    "# Exercise 2: Plot a histogram\n",
    "\n",
    "take the nucleotide composition of the gene above and plot a histogram of the A, T, G and C frequency. Have your histogram labeled nicely and give it a title. Please, choose yourself if you would like to display horizontal or vertical bars. Advanced options include change of color for individual bars, width of the bars and alignment of labels and bars."
   ]
  },
  {
   "cell_type": "code",
   "execution_count": 6,
   "metadata": {
    "collapsed": false
   },
   "outputs": [
    {
     "data": {
      "text/plain": [
       "[None, None, None, None]"
      ]
     },
     "execution_count": 6,
     "metadata": {},
     "output_type": "execute_result"
    },
    {
     "data": {
      "image/png": "iVBORw0KGgoAAAANSUhEUgAAAXoAAAEACAYAAAC9Gb03AAAABHNCSVQICAgIfAhkiAAAAAlwSFlz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\nYo7ys/sCK6kAAAAASUVORK5CYII=\n",
      "text/plain": [
       "<matplotlib.figure.Figure at 0x7fdab44a3910>"
      ]
     },
     "metadata": {},
     "output_type": "display_data"
    }
   ],
   "source": [
    "%matplotlib inline \n",
    "from pylab import *\n",
    "\n",
    "yv = [100,150,200,50]\n",
    "\n",
    "barplot = bar(range(4), yv )\n",
    "setp(barplot, width=1)"
   ]
  },
  {
   "cell_type": "markdown",
   "metadata": {},
   "source": [
=======
>>>>>>> upstream2/master
    "# Exercise 3: Plot a scatterplot\n",
    "\n",
    "The file `mycoplasma_gene_sequences.csv` contains the genomic sequences of all *Mycoplasma genitalium* genes. The file contains two columns separated by a coma, the `WholeCellModelID` and the `Sequence`. \n",
    "\n",
    "* Read and parse the file and compute the nucleotide composition for each gene using the `compute_nt_composition( seq )` function that you have defined in Exercise 1. Collect the nucleotide compositions f Then use the scatter function to plot a scatterplot of A content versus T content for each gene (don't forget to normalize the nucleotide content by gene length).\n",
    "\n",
    "* Indicate the length of each sequence by the dot-size in the scatterplot (hint: s input of scatter function)\n",
    "\n",
    "* Plot the scatterplot for each combination of A,G,T,C (use subplot)"
   ]
  },
  {
   "cell_type": "code",
   "execution_count": 82,
   "metadata": {
    "collapsed": false
   },
   "outputs": [],
   "source": []
  },
  {
   "cell_type": "markdown",
   "metadata": {},
   "source": [
    "# Exercise 4: Plot the phasespace\n",
    "\n",
    "in the numpy tutorial yesterday, you examined how a population of predator and prey can evolve over time theoretically (Lotka-Voltera System). Today, revisit the system and plot the phase space of the two species. In a phase space we plot the two variables against each other. \n",
    "\n",
    "In a next step, imagine, we would like to visualize how different starting conditions impact population behavior. Try having different conditions in the same phase space plot."
   ]
  },
  {
   "cell_type": "code",
   "execution_count": 1,
   "metadata": {
    "collapsed": false
   },
   "outputs": [],
   "source": [
    "import scipy.integrate"
   ]
<<<<<<< HEAD
  }
 ],
 "metadata": {
  "kernelspec": {
   "display_name": "Python 2",
   "language": "python",
   "name": "python2"
  },
  "language_info": {
   "codemirror_mode": {
    "name": "ipython",
    "version": 2
   },
   "file_extension": ".py",
   "mimetype": "text/x-python",
   "name": "python",
   "nbconvert_exporter": "python",
   "pygments_lexer": "ipython2",
   "version": "2.7.6"
  }
=======
  }
 ],
 "metadata": {
  "kernelspec": {
   "display_name": "Python 2",
   "language": "python",
   "name": "python2"
  },
  "language_info": {
   "codemirror_mode": {
    "name": "ipython",
    "version": 2
   },
   "file_extension": ".py",
   "mimetype": "text/x-python",
   "name": "python",
   "nbconvert_exporter": "python",
   "pygments_lexer": "ipython2",
   "version": "2.7.6"
  }
>>>>>>> upstream2/master
 },
 "nbformat": 4,
 "nbformat_minor": 0
}
